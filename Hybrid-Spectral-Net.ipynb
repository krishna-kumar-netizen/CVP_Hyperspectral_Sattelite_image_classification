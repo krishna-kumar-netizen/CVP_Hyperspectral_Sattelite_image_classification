{
 "cells": [
  {
   "cell_type": "code",
   "execution_count": 1,
   "metadata": {},
   "outputs": [
    {
     "name": "stdout",
     "output_type": "stream",
     "text": [
      "INFO:tensorflow:Enabling eager execution\n",
      "INFO:tensorflow:Enabling v2 tensorshape\n",
      "INFO:tensorflow:Enabling resource variables\n",
      "INFO:tensorflow:Enabling tensor equality\n",
      "INFO:tensorflow:Enabling control flow v2\n"
     ]
    },
    {
     "data": {
      "text/html": [
       "        <script type=\"text/javascript\">\n",
       "        window.PlotlyConfig = {MathJaxConfig: 'local'};\n",
       "        if (window.MathJax) {MathJax.Hub.Config({SVG: {font: \"STIX-Web\"}});}\n",
       "        if (typeof require !== 'undefined') {\n",
       "        require.undef(\"plotly\");\n",
       "        requirejs.config({\n",
       "            paths: {\n",
       "                'plotly': ['https://cdn.plot.ly/plotly-latest.min']\n",
       "            }\n",
       "        });\n",
       "        require(['plotly'], function(Plotly) {\n",
       "            window._Plotly = Plotly;\n",
       "        });\n",
       "        }\n",
       "        </script>\n",
       "        "
      ]
     },
     "metadata": {},
     "output_type": "display_data"
    }
   ],
   "source": [
    "import keras\n",
    "from keras.layers import Conv2D, Conv3D, Flatten, Dense, Reshape, BatchNormalization\n",
    "from keras.layers import Dropout\n",
    "from tensorflow.keras.models import Model\n",
    "from keras.models import Model\n",
    "from keras.optimizers import Adam\n",
    "from keras.callbacks import ModelCheckpoint\n",
    "from keras.utils import np_utils\n",
    "\n",
    "from sklearn.decomposition import PCA\n",
    "from sklearn.model_selection import train_test_split\n",
    "from sklearn.metrics import confusion_matrix, accuracy_score, classification_report, cohen_kappa_score\n",
    "\n",
    "from operator import truediv\n",
    "\n",
    "from plotly.offline import init_notebook_mode\n",
    "\n",
    "import numpy as np\n",
    "import matplotlib.pyplot as plt\n",
    "import scipy.io as sio\n",
    "import os\n",
    "import spectral\n",
    "\n",
    "init_notebook_mode(connected=True)\n",
    "%matplotlib inline"
   ]
  },
  {
   "cell_type": "markdown",
   "metadata": {},
   "source": [
    "# Data Loading"
   ]
  },
  {
   "cell_type": "code",
   "execution_count": 12,
   "metadata": {},
   "outputs": [],
   "source": [
    "## GLOBAL VARIABLES\n",
    "dataset = 'IP'\n",
    "test_ratio = 0.2\n",
    "windowSize = 21"
   ]
  },
  {
   "cell_type": "code",
   "execution_count": 13,
   "metadata": {},
   "outputs": [],
   "source": [
    "def loadData(name):\n",
    "    data_path = os.path.join(os.getcwd(),'data')\n",
    "    if name == 'IP':\n",
    "        data = sio.loadmat(os.path.join(data_path, 'Indian_pines_corrected.mat'))['indian_pines_corrected']\n",
    "        labels = sio.loadmat(os.path.join(data_path, 'Indian_pines_gt.mat'))['indian_pines_gt']\n",
    "#     elif name == 'SA':\n",
    "#         data = sio.loadmat(os.path.join(data_path, 'Salinas_corrected.mat'))['salinas_corrected']\n",
    "#         labels = sio.loadmat(os.path.join(data_path, 'Salinas_gt.mat'))['salinas_gt']\n",
    "#     elif name == 'PU':\n",
    "#         data = sio.loadmat(os.path.join(data_path, 'PaviaU.mat'))['paviaU']\n",
    "#         labels = sio.loadmat(os.path.join(data_path, 'PaviaU_gt.mat'))['paviaU_gt']\n",
    "    \n",
    "    return data, labels"
   ]
  },
  {
   "cell_type": "code",
   "execution_count": 14,
   "metadata": {},
   "outputs": [],
   "source": [
    "def splitTrainTestSet(X, y, testRatio, randomState=345):\n",
    "    X_train, X_test, y_train, y_test = train_test_split(X, y, test_size=testRatio, random_state=randomState,\n",
    "                                                        stratify=y)\n",
    "    return X_train, X_test, y_train, y_test"
   ]
  },
  {
   "cell_type": "code",
   "execution_count": null,
   "metadata": {},
   "outputs": [],
   "source": [
    "# \n"
   ]
  },
  {
   "cell_type": "code",
   "execution_count": 15,
   "metadata": {},
   "outputs": [],
   "source": [
    "def applyPCA(X, numComponents=75):\n",
    "    newX = np.reshape(X, (-1, X.shape[2]))\n",
    "    pca = PCA(n_components=numComponents, whiten=True)\n",
    "    newX = pca.fit_transform(newX)\n",
    "    newX = np.reshape(newX, (X.shape[0],X.shape[1], numComponents))\n",
    "    return newX, pca"
   ]
  },
  {
   "cell_type": "code",
   "execution_count": 16,
   "metadata": {},
   "outputs": [],
   "source": [
    "def padWithZeros(X, margin=2):\n",
    "    newX = np.zeros((X.shape[0] + 2 * margin, X.shape[1] + 2* margin, X.shape[2]))\n",
    "    x_offset = margin\n",
    "    y_offset = margin\n",
    "    newX[x_offset:X.shape[0] + x_offset, y_offset:X.shape[1] + y_offset, :] = X\n",
    "    return newX"
   ]
  },
  {
   "cell_type": "code",
   "execution_count": 17,
   "metadata": {},
   "outputs": [],
   "source": [
    "def createImageCubes(X, y, windowSize=5, removeZeroLabels = True):\n",
    "    margin = int((windowSize - 1) / 2)\n",
    "    zeroPaddedX = padWithZeros(X, margin=margin)\n",
    "    # split patches\n",
    "    patchesData = np.zeros((X.shape[0] * X.shape[1], windowSize, windowSize, X.shape[2]))\n",
    "    patchesLabels = np.zeros((X.shape[0] * X.shape[1]))\n",
    "    patchIndex = 0\n",
    "    for r in range(margin, zeroPaddedX.shape[0] - margin):\n",
    "        for c in range(margin, zeroPaddedX.shape[1] - margin):\n",
    "            patch = zeroPaddedX[r - margin:r + margin + 1, c - margin:c + margin + 1]   \n",
    "            patchesData[patchIndex, :, :, :] = patch\n",
    "            patchesLabels[patchIndex] = y[r-margin, c-margin]\n",
    "            patchIndex = patchIndex + 1\n",
    "    if removeZeroLabels:\n",
    "        patchesData = patchesData[patchesLabels>0,:,:,:]\n",
    "        patchesLabels = patchesLabels[patchesLabels>0]\n",
    "        patchesLabels -= 1\n",
    "    return patchesData, patchesLabels"
   ]
  },
  {
   "cell_type": "code",
   "execution_count": 18,
   "metadata": {},
   "outputs": [
    {
     "name": "stdout",
     "output_type": "stream",
     "text": [
      "(145, 145, 200) (145, 145)\n"
     ]
    }
   ],
   "source": [
    "X, y = loadData(dataset)\n",
    "\n",
    "print(X.shape, y.shape)"
   ]
  },
  {
   "cell_type": "code",
   "execution_count": 19,
   "metadata": {},
   "outputs": [],
   "source": [
    "K = X.shape[2]"
   ]
  },
  {
   "cell_type": "code",
   "execution_count": 20,
   "metadata": {},
   "outputs": [
    {
     "name": "stdout",
     "output_type": "stream",
     "text": [
      "(145, 145, 100)\n"
     ]
    }
   ],
   "source": [
    "K = 100 if dataset == 'IP' else 15\n",
    "X,pca = applyPCA(X,numComponents=K)\n",
    "\n",
    "print(X.shape)"
   ]
  },
  {
   "cell_type": "code",
   "execution_count": 21,
   "metadata": {},
   "outputs": [
    {
     "name": "stdout",
     "output_type": "stream",
     "text": [
      "(10249, 21, 21, 100) (10249,)\n"
     ]
    }
   ],
   "source": [
    "\n",
    "X, y = createImageCubes(X, y, windowSize=windowSize)\n",
    "\n",
    "\n",
    "print(X.shape, y.shape)"
   ]
  },
  {
   "cell_type": "code",
   "execution_count": 22,
   "metadata": {},
   "outputs": [
    {
     "name": "stdout",
     "output_type": "stream",
     "text": [
      "(8199, 21, 21, 100) (2050, 21, 21, 100) (8199,) (2050,)\n"
     ]
    }
   ],
   "source": [
    "Xtrain, Xtest, ytrain, ytest = splitTrainTestSet(X, y, test_ratio)\n",
    "\n",
    "print(Xtrain.shape, Xtest.shape, ytrain.shape, ytest.shape)"
   ]
  },
  {
   "cell_type": "markdown",
   "metadata": {},
   "source": [
    "Xtrain, Xvalid, ytrain, yvalid = splitTrainTestSet(Xtrain, ytrain, 0.3333)\n",
    "\n",
    "Xtrain.shape, Xvalid.shape, ytrain.shape, yvalid.shape"
   ]
  },
  {
   "cell_type": "markdown",
   "metadata": {},
   "source": [
    "# Model and Training"
   ]
  },
  {
   "cell_type": "code",
   "execution_count": 23,
   "metadata": {},
   "outputs": [
    {
     "data": {
      "text/plain": [
       "(8199, 21, 21, 100, 1)"
      ]
     },
     "execution_count": 23,
     "metadata": {},
     "output_type": "execute_result"
    }
   ],
   "source": [
    "Xtrain = Xtrain.reshape(-1, windowSize, windowSize, K, 1)\n",
    "Xtrain.shape"
   ]
  },
  {
   "cell_type": "code",
   "execution_count": 24,
   "metadata": {},
   "outputs": [
    {
     "name": "stdout",
     "output_type": "stream",
     "text": [
      "(8199,)\n"
     ]
    }
   ],
   "source": [
    "print(ytrain.shape)"
   ]
  },
  {
   "cell_type": "code",
   "execution_count": 25,
   "metadata": {},
   "outputs": [
    {
     "data": {
      "text/plain": [
       "(8199, 16)"
      ]
     },
     "execution_count": 25,
     "metadata": {},
     "output_type": "execute_result"
    }
   ],
   "source": [
    "ytrain = np_utils.to_categorical(ytrain)\n",
    "ytest = np_utils.to_categorical(ytest)\n",
    "ytrain.shape"
   ]
  },
  {
   "cell_type": "markdown",
   "metadata": {},
   "source": [
    "Xvalid = Xvalid.reshape(-1, windowSize, windowSize, K, 1)\n",
    "Xvalid.shape"
   ]
  },
  {
   "cell_type": "markdown",
   "metadata": {},
   "source": [
    "yvalid = np_utils.to_categorical(yvalid)\n",
    "yvalid.shape"
   ]
  },
  {
   "cell_type": "code",
   "execution_count": 26,
   "metadata": {},
   "outputs": [
    {
     "name": "stdout",
     "output_type": "stream",
     "text": [
      "21 21 100\n"
     ]
    }
   ],
   "source": [
    "S = windowSize\n",
    "L = K\n",
    "output_units = 16\n",
    "print(S,S,L)"
   ]
  },
  {
   "cell_type": "code",
   "execution_count": 29,
   "metadata": {},
   "outputs": [],
   "source": [
    "from tensorflow import Tensor\n",
    "from tensorflow.keras.layers import Input, Conv2D, ReLU, BatchNormalization,\\\n",
    "                                    Add, AveragePooling2D, Flatten, Dense\n",
    "from tensorflow.keras.models import Model\n",
    "\n",
    "def relu_bn(inputs: Tensor) -> Tensor:\n",
    "    relu = ReLU()(inputs)\n",
    "    bn = BatchNormalization()(relu)\n",
    "    return bn\n",
    "\n",
    "def residual_block(x: Tensor, downsample: bool, filters: int, kernel_size: int = 3) -> Tensor:\n",
    "    y = Conv2D(kernel_size=kernel_size,\n",
    "               strides= (1 if not downsample else 2),\n",
    "               filters=filters,\n",
    "               padding=\"same\")(x)\n",
    "    y = relu_bn(y)\n",
    "    y = Conv2D(kernel_size=kernel_size,\n",
    "               strides=1,\n",
    "               filters=filters,\n",
    "               padding=\"same\")(y)\n",
    "\n",
    "    if downsample:\n",
    "        x = Conv2D(kernel_size=1,\n",
    "                   strides=2,\n",
    "                   filters=filters,\n",
    "                   padding=\"same\")(x)\n",
    "    out = Add()([x, y])\n",
    "    out = relu_bn(out)\n",
    "    return out\n",
    "\n",
    "def create_res_net():\n",
    "    \n",
    "    inputs = Input(shape=(S, S, L))\n",
    "    num_filters = 16\n",
    "    \n",
    "    t = BatchNormalization()(inputs)\n",
    "    t = Conv2D(kernel_size=3,\n",
    "               strides=1,\n",
    "               filters=num_filters,\n",
    "               padding=\"same\")(t)\n",
    "    t = relu_bn(t)\n",
    "    \n",
    "    num_blocks_list = [2, 5,2]\n",
    "    for i in range(len(num_blocks_list)):\n",
    "        num_blocks = num_blocks_list[i]\n",
    "        for j in range(num_blocks):\n",
    "            t = residual_block(t, downsample=(j==0 and i!=0), filters=num_filters)\n",
    "        num_filters *= 2\n",
    "    \n",
    "    t = AveragePooling2D(4)(t)\n",
    "    t = Flatten()(t)\n",
    "    outputs = Dense(16, activation='softmax')(t)\n",
    "    \n",
    "    model = Model(inputs, outputs)\n",
    "\n",
    "    model.compile(\n",
    "        optimizer='adam',\n",
    "        loss='categorical_crossentropy',\n",
    "        metrics=['accuracy']\n",
    "    )\n",
    "\n",
    "    return model"
   ]
  },
  {
   "cell_type": "code",
   "execution_count": 33,
   "metadata": {},
   "outputs": [
    {
     "name": "stdout",
     "output_type": "stream",
     "text": [
      "Model: \"model_4\"\n",
      "__________________________________________________________________________________________________\n",
      "Layer (type)                    Output Shape         Param #     Connected to                     \n",
      "==================================================================================================\n",
      "input_5 (InputLayer)            [(None, 21, 21, 100) 0                                            \n",
      "__________________________________________________________________________________________________\n",
      "batch_normalization_80 (BatchNo (None, 21, 21, 100)  400         input_5[0][0]                    \n",
      "__________________________________________________________________________________________________\n",
      "conv2d_84 (Conv2D)              (None, 21, 21, 16)   14416       batch_normalization_80[0][0]     \n",
      "__________________________________________________________________________________________________\n",
      "re_lu_76 (ReLU)                 (None, 21, 21, 16)   0           conv2d_84[0][0]                  \n",
      "__________________________________________________________________________________________________\n",
      "batch_normalization_81 (BatchNo (None, 21, 21, 16)   64          re_lu_76[0][0]                   \n",
      "__________________________________________________________________________________________________\n",
      "conv2d_85 (Conv2D)              (None, 21, 21, 16)   2320        batch_normalization_81[0][0]     \n",
      "__________________________________________________________________________________________________\n",
      "re_lu_77 (ReLU)                 (None, 21, 21, 16)   0           conv2d_85[0][0]                  \n",
      "__________________________________________________________________________________________________\n",
      "batch_normalization_82 (BatchNo (None, 21, 21, 16)   64          re_lu_77[0][0]                   \n",
      "__________________________________________________________________________________________________\n",
      "conv2d_86 (Conv2D)              (None, 21, 21, 16)   2320        batch_normalization_82[0][0]     \n",
      "__________________________________________________________________________________________________\n",
      "add_36 (Add)                    (None, 21, 21, 16)   0           batch_normalization_81[0][0]     \n",
      "                                                                 conv2d_86[0][0]                  \n",
      "__________________________________________________________________________________________________\n",
      "re_lu_78 (ReLU)                 (None, 21, 21, 16)   0           add_36[0][0]                     \n",
      "__________________________________________________________________________________________________\n",
      "batch_normalization_83 (BatchNo (None, 21, 21, 16)   64          re_lu_78[0][0]                   \n",
      "__________________________________________________________________________________________________\n",
      "conv2d_87 (Conv2D)              (None, 21, 21, 16)   2320        batch_normalization_83[0][0]     \n",
      "__________________________________________________________________________________________________\n",
      "re_lu_79 (ReLU)                 (None, 21, 21, 16)   0           conv2d_87[0][0]                  \n",
      "__________________________________________________________________________________________________\n",
      "batch_normalization_84 (BatchNo (None, 21, 21, 16)   64          re_lu_79[0][0]                   \n",
      "__________________________________________________________________________________________________\n",
      "conv2d_88 (Conv2D)              (None, 21, 21, 16)   2320        batch_normalization_84[0][0]     \n",
      "__________________________________________________________________________________________________\n",
      "add_37 (Add)                    (None, 21, 21, 16)   0           batch_normalization_83[0][0]     \n",
      "                                                                 conv2d_88[0][0]                  \n",
      "__________________________________________________________________________________________________\n",
      "re_lu_80 (ReLU)                 (None, 21, 21, 16)   0           add_37[0][0]                     \n",
      "__________________________________________________________________________________________________\n",
      "batch_normalization_85 (BatchNo (None, 21, 21, 16)   64          re_lu_80[0][0]                   \n",
      "__________________________________________________________________________________________________\n",
      "conv2d_89 (Conv2D)              (None, 11, 11, 32)   4640        batch_normalization_85[0][0]     \n",
      "__________________________________________________________________________________________________\n",
      "re_lu_81 (ReLU)                 (None, 11, 11, 32)   0           conv2d_89[0][0]                  \n",
      "__________________________________________________________________________________________________\n",
      "batch_normalization_86 (BatchNo (None, 11, 11, 32)   128         re_lu_81[0][0]                   \n",
      "__________________________________________________________________________________________________\n",
      "conv2d_91 (Conv2D)              (None, 11, 11, 32)   544         batch_normalization_85[0][0]     \n",
      "__________________________________________________________________________________________________\n",
      "conv2d_90 (Conv2D)              (None, 11, 11, 32)   9248        batch_normalization_86[0][0]     \n",
      "__________________________________________________________________________________________________\n",
      "add_38 (Add)                    (None, 11, 11, 32)   0           conv2d_91[0][0]                  \n",
      "                                                                 conv2d_90[0][0]                  \n",
      "__________________________________________________________________________________________________\n",
      "re_lu_82 (ReLU)                 (None, 11, 11, 32)   0           add_38[0][0]                     \n",
      "__________________________________________________________________________________________________\n",
      "batch_normalization_87 (BatchNo (None, 11, 11, 32)   128         re_lu_82[0][0]                   \n",
      "__________________________________________________________________________________________________\n",
      "conv2d_92 (Conv2D)              (None, 11, 11, 32)   9248        batch_normalization_87[0][0]     \n",
      "__________________________________________________________________________________________________\n",
      "re_lu_83 (ReLU)                 (None, 11, 11, 32)   0           conv2d_92[0][0]                  \n",
      "__________________________________________________________________________________________________\n",
      "batch_normalization_88 (BatchNo (None, 11, 11, 32)   128         re_lu_83[0][0]                   \n",
      "__________________________________________________________________________________________________\n",
      "conv2d_93 (Conv2D)              (None, 11, 11, 32)   9248        batch_normalization_88[0][0]     \n",
      "__________________________________________________________________________________________________\n",
      "add_39 (Add)                    (None, 11, 11, 32)   0           batch_normalization_87[0][0]     \n",
      "                                                                 conv2d_93[0][0]                  \n",
      "__________________________________________________________________________________________________\n",
      "re_lu_84 (ReLU)                 (None, 11, 11, 32)   0           add_39[0][0]                     \n",
      "__________________________________________________________________________________________________\n",
      "batch_normalization_89 (BatchNo (None, 11, 11, 32)   128         re_lu_84[0][0]                   \n",
      "__________________________________________________________________________________________________\n",
      "conv2d_94 (Conv2D)              (None, 11, 11, 32)   9248        batch_normalization_89[0][0]     \n",
      "__________________________________________________________________________________________________\n",
      "re_lu_85 (ReLU)                 (None, 11, 11, 32)   0           conv2d_94[0][0]                  \n",
      "__________________________________________________________________________________________________\n",
      "batch_normalization_90 (BatchNo (None, 11, 11, 32)   128         re_lu_85[0][0]                   \n",
      "__________________________________________________________________________________________________\n",
      "conv2d_95 (Conv2D)              (None, 11, 11, 32)   9248        batch_normalization_90[0][0]     \n",
      "__________________________________________________________________________________________________\n",
      "add_40 (Add)                    (None, 11, 11, 32)   0           batch_normalization_89[0][0]     \n",
      "                                                                 conv2d_95[0][0]                  \n",
      "__________________________________________________________________________________________________\n",
      "re_lu_86 (ReLU)                 (None, 11, 11, 32)   0           add_40[0][0]                     \n",
      "__________________________________________________________________________________________________\n",
      "batch_normalization_91 (BatchNo (None, 11, 11, 32)   128         re_lu_86[0][0]                   \n",
      "__________________________________________________________________________________________________\n",
      "conv2d_96 (Conv2D)              (None, 11, 11, 32)   9248        batch_normalization_91[0][0]     \n",
      "__________________________________________________________________________________________________\n",
      "re_lu_87 (ReLU)                 (None, 11, 11, 32)   0           conv2d_96[0][0]                  \n",
      "__________________________________________________________________________________________________\n",
      "batch_normalization_92 (BatchNo (None, 11, 11, 32)   128         re_lu_87[0][0]                   \n",
      "__________________________________________________________________________________________________\n",
      "conv2d_97 (Conv2D)              (None, 11, 11, 32)   9248        batch_normalization_92[0][0]     \n",
      "__________________________________________________________________________________________________\n",
      "add_41 (Add)                    (None, 11, 11, 32)   0           batch_normalization_91[0][0]     \n",
      "                                                                 conv2d_97[0][0]                  \n",
      "__________________________________________________________________________________________________\n",
      "re_lu_88 (ReLU)                 (None, 11, 11, 32)   0           add_41[0][0]                     \n",
      "__________________________________________________________________________________________________\n",
      "batch_normalization_93 (BatchNo (None, 11, 11, 32)   128         re_lu_88[0][0]                   \n",
      "__________________________________________________________________________________________________\n",
      "conv2d_98 (Conv2D)              (None, 11, 11, 32)   9248        batch_normalization_93[0][0]     \n",
      "__________________________________________________________________________________________________\n",
      "re_lu_89 (ReLU)                 (None, 11, 11, 32)   0           conv2d_98[0][0]                  \n",
      "__________________________________________________________________________________________________\n",
      "batch_normalization_94 (BatchNo (None, 11, 11, 32)   128         re_lu_89[0][0]                   \n",
      "__________________________________________________________________________________________________\n",
      "conv2d_99 (Conv2D)              (None, 11, 11, 32)   9248        batch_normalization_94[0][0]     \n",
      "__________________________________________________________________________________________________\n",
      "add_42 (Add)                    (None, 11, 11, 32)   0           batch_normalization_93[0][0]     \n",
      "                                                                 conv2d_99[0][0]                  \n",
      "__________________________________________________________________________________________________\n",
      "re_lu_90 (ReLU)                 (None, 11, 11, 32)   0           add_42[0][0]                     \n",
      "__________________________________________________________________________________________________\n",
      "batch_normalization_95 (BatchNo (None, 11, 11, 32)   128         re_lu_90[0][0]                   \n",
      "__________________________________________________________________________________________________\n",
      "conv2d_100 (Conv2D)             (None, 6, 6, 64)     18496       batch_normalization_95[0][0]     \n",
      "__________________________________________________________________________________________________\n",
      "re_lu_91 (ReLU)                 (None, 6, 6, 64)     0           conv2d_100[0][0]                 \n",
      "__________________________________________________________________________________________________\n",
      "batch_normalization_96 (BatchNo (None, 6, 6, 64)     256         re_lu_91[0][0]                   \n",
      "__________________________________________________________________________________________________\n",
      "conv2d_102 (Conv2D)             (None, 6, 6, 64)     2112        batch_normalization_95[0][0]     \n",
      "__________________________________________________________________________________________________\n",
      "conv2d_101 (Conv2D)             (None, 6, 6, 64)     36928       batch_normalization_96[0][0]     \n",
      "__________________________________________________________________________________________________\n",
      "add_43 (Add)                    (None, 6, 6, 64)     0           conv2d_102[0][0]                 \n",
      "                                                                 conv2d_101[0][0]                 \n",
      "__________________________________________________________________________________________________\n",
      "re_lu_92 (ReLU)                 (None, 6, 6, 64)     0           add_43[0][0]                     \n",
      "__________________________________________________________________________________________________\n",
      "batch_normalization_97 (BatchNo (None, 6, 6, 64)     256         re_lu_92[0][0]                   \n",
      "__________________________________________________________________________________________________\n",
      "conv2d_103 (Conv2D)             (None, 6, 6, 64)     36928       batch_normalization_97[0][0]     \n",
      "__________________________________________________________________________________________________\n",
      "re_lu_93 (ReLU)                 (None, 6, 6, 64)     0           conv2d_103[0][0]                 \n",
      "__________________________________________________________________________________________________\n",
      "batch_normalization_98 (BatchNo (None, 6, 6, 64)     256         re_lu_93[0][0]                   \n",
      "__________________________________________________________________________________________________\n",
      "conv2d_104 (Conv2D)             (None, 6, 6, 64)     36928       batch_normalization_98[0][0]     \n",
      "__________________________________________________________________________________________________\n",
      "add_44 (Add)                    (None, 6, 6, 64)     0           batch_normalization_97[0][0]     \n",
      "                                                                 conv2d_104[0][0]                 \n",
      "__________________________________________________________________________________________________\n",
      "re_lu_94 (ReLU)                 (None, 6, 6, 64)     0           add_44[0][0]                     \n",
      "__________________________________________________________________________________________________\n",
      "batch_normalization_99 (BatchNo (None, 6, 6, 64)     256         re_lu_94[0][0]                   \n",
      "__________________________________________________________________________________________________\n",
      "average_pooling2d_4 (AveragePoo (None, 1, 1, 64)     0           batch_normalization_99[0][0]     \n",
      "__________________________________________________________________________________________________\n",
      "flatten_4 (Flatten)             (None, 64)           0           average_pooling2d_4[0][0]        \n",
      "__________________________________________________________________________________________________\n",
      "dense_4 (Dense)                 (None, 16)           1040        flatten_4[0][0]                  \n",
      "==================================================================================================\n",
      "Total params: 247,568\n",
      "Trainable params: 246,056\n",
      "Non-trainable params: 1,512\n",
      "__________________________________________________________________________________________________\n"
     ]
    },
    {
     "name": "stdout",
     "output_type": "stream",
     "text": [
      "Epoch 1/30\n",
      "33/33 [==============================] - 35s 971ms/step - loss: 1.9673 - accuracy: 0.4045 - val_loss: 2.7952 - val_accuracy: 0.1210\n",
      "Epoch 2/30\n",
      "33/33 [==============================] - 29s 871ms/step - loss: 0.4044 - accuracy: 0.8877 - val_loss: 1.4709 - val_accuracy: 0.5317\n",
      "Epoch 3/30\n",
      "33/33 [==============================] - 31s 928ms/step - loss: 0.1440 - accuracy: 0.9652 - val_loss: 1.0427 - val_accuracy: 0.6780\n",
      "Epoch 4/30\n",
      "33/33 [==============================] - 33s 990ms/step - loss: 0.1094 - accuracy: 0.9720 - val_loss: 0.7957 - val_accuracy: 0.7683\n",
      "Epoch 5/30\n",
      "33/33 [==============================] - 29s 885ms/step - loss: 0.0999 - accuracy: 0.9713 - val_loss: 0.4081 - val_accuracy: 0.8580\n",
      "Epoch 6/30\n",
      "33/33 [==============================] - 28s 862ms/step - loss: 0.0436 - accuracy: 0.9906 - val_loss: 0.2967 - val_accuracy: 0.9005\n",
      "Epoch 7/30\n",
      "33/33 [==============================] - 28s 844ms/step - loss: 0.0192 - accuracy: 0.9972 - val_loss: 0.2500 - val_accuracy: 0.9127\n",
      "Epoch 8/30\n",
      "33/33 [==============================] - 31s 930ms/step - loss: 0.0713 - accuracy: 0.9792 - val_loss: 0.7475 - val_accuracy: 0.8488\n",
      "Epoch 9/30\n",
      "33/33 [==============================] - 29s 876ms/step - loss: 0.1788 - accuracy: 0.9449 - val_loss: 0.4600 - val_accuracy: 0.8873\n",
      "Epoch 10/30\n",
      "33/33 [==============================] - 32s 954ms/step - loss: 0.0962 - accuracy: 0.9697 - val_loss: 0.2268 - val_accuracy: 0.9317\n",
      "Epoch 11/30\n",
      "33/33 [==============================] - 27s 831ms/step - loss: 0.0335 - accuracy: 0.9948 - val_loss: 0.0688 - val_accuracy: 0.9751\n",
      "Epoch 12/30\n",
      "33/33 [==============================] - 30s 911ms/step - loss: 0.0333 - accuracy: 0.9921 - val_loss: 0.0464 - val_accuracy: 0.9844\n",
      "Epoch 13/30\n",
      "33/33 [==============================] - 31s 930ms/step - loss: 0.1162 - accuracy: 0.9719 - val_loss: 0.2202 - val_accuracy: 0.9376\n",
      "Epoch 14/30\n",
      "33/33 [==============================] - 28s 854ms/step - loss: 0.0821 - accuracy: 0.9787 - val_loss: 0.3006 - val_accuracy: 0.9259\n",
      "Epoch 15/30\n",
      "33/33 [==============================] - 26s 781ms/step - loss: 0.0531 - accuracy: 0.9847 - val_loss: 0.0515 - val_accuracy: 0.9854\n",
      "Epoch 16/30\n",
      "33/33 [==============================] - 28s 848ms/step - loss: 0.0161 - accuracy: 0.9974 - val_loss: 0.0250 - val_accuracy: 0.9946\n",
      "Epoch 17/30\n",
      "33/33 [==============================] - 30s 909ms/step - loss: 0.0085 - accuracy: 0.9992 - val_loss: 0.0251 - val_accuracy: 0.9927\n",
      "Epoch 18/30\n",
      "33/33 [==============================] - 26s 786ms/step - loss: 0.0338 - accuracy: 0.9923 - val_loss: 0.0522 - val_accuracy: 0.9839\n",
      "Epoch 19/30\n",
      "33/33 [==============================] - 26s 780ms/step - loss: 0.0601 - accuracy: 0.9826 - val_loss: 0.0484 - val_accuracy: 0.9849\n",
      "Epoch 20/30\n",
      "33/33 [==============================] - 26s 793ms/step - loss: 0.0733 - accuracy: 0.9794 - val_loss: 0.1710 - val_accuracy: 0.9541\n",
      "Epoch 21/30\n",
      "33/33 [==============================] - 26s 778ms/step - loss: 0.0566 - accuracy: 0.9819 - val_loss: 0.0937 - val_accuracy: 0.9659\n",
      "Epoch 22/30\n",
      "33/33 [==============================] - 26s 778ms/step - loss: 0.0731 - accuracy: 0.9765 - val_loss: 0.2794 - val_accuracy: 0.9395\n",
      "Epoch 23/30\n",
      "33/33 [==============================] - 26s 778ms/step - loss: 0.0765 - accuracy: 0.9760 - val_loss: 0.3532 - val_accuracy: 0.9117\n",
      "Epoch 24/30\n",
      "33/33 [==============================] - 26s 779ms/step - loss: 0.1197 - accuracy: 0.9646 - val_loss: 0.8497 - val_accuracy: 0.8044\n",
      "Epoch 25/30\n",
      "33/33 [==============================] - 26s 795ms/step - loss: 0.0867 - accuracy: 0.9699 - val_loss: 0.3577 - val_accuracy: 0.8971\n",
      "Epoch 26/30\n",
      "33/33 [==============================] - 26s 789ms/step - loss: 0.1957 - accuracy: 0.9410 - val_loss: 0.2654 - val_accuracy: 0.9234\n",
      "Epoch 27/30\n",
      "33/33 [==============================] - 26s 777ms/step - loss: 0.0632 - accuracy: 0.9830 - val_loss: 0.1672 - val_accuracy: 0.9498\n",
      "Epoch 28/30\n",
      "33/33 [==============================] - 26s 778ms/step - loss: 0.0336 - accuracy: 0.9919 - val_loss: 0.0971 - val_accuracy: 0.9644\n",
      "Epoch 29/30\n",
      "33/33 [==============================] - 26s 781ms/step - loss: 0.0697 - accuracy: 0.9839 - val_loss: 0.2923 - val_accuracy: 0.9444\n",
      "Epoch 30/30\n",
      "33/33 [==============================] - 26s 797ms/step - loss: 0.1398 - accuracy: 0.9669 - val_loss: 0.5986 - val_accuracy: 0.8859\n"
     ]
    },
    {
     "data": {
      "text/plain": [
       "<tensorflow.python.keras.callbacks.History at 0x187015af0>"
      ]
     },
     "execution_count": 33,
     "metadata": {},
     "output_type": "execute_result"
    }
   ],
   "source": [
    "# from tensorflow.keras.datasets import cifar10\n",
    "# from tensorflow.keras.callbacks import ModelCheckpoint, TensorBoard\n",
    "# import datetime\n",
    "# import os\n",
    "\n",
    "\n",
    "# model = create_res_net() # or create_plain_net()\n",
    "# model.summary()\n",
    "from tensorflow.keras.datasets import cifar10\n",
    "from tensorflow.keras.callbacks import ModelCheckpoint, TensorBoard\n",
    "import datetime\n",
    "import os\n",
    "\n",
    "# (x_train, y_train), (x_test, y_test) = cifar10.load_data()\n",
    "(x_train, y_train), (x_test, y_test) = (Xtrain,ytrain), (Xtest,ytest) \n",
    "\n",
    "model = create_res_net() # or create_plain_net()\n",
    "model.summary()\n",
    "\n",
    "timestr = datetime.datetime.now().strftime(\"%Y%m%d-%H%M%S\")\n",
    "name = 'best-model_res.hdf5' # or 'cifar-10_plain_net_30-'+timestr\n",
    "\n",
    "checkpoint_path = \"checkpoints/\"+name+\"/cp-{epoch:04d}.ckpt\"\n",
    "checkpoint_dir = os.path.dirname(checkpoint_path)\n",
    "os.system('mkdir {}'.format(checkpoint_dir))\n",
    "\n",
    "# save model after each epoch\n",
    "# cp_callback = ModelCheckpoint(\n",
    "#     filepath=checkpoint_path,\n",
    "#     verbose=1\n",
    "# )\n",
    "# tensorboard_callback = TensorBoard(\n",
    "#     log_dir='tensorboard_logs/'+name,\n",
    "#     histogram_freq=1\n",
    "# )\n",
    "\n",
    "model.fit(\n",
    "    x=x_train,\n",
    "    y=y_train,\n",
    "    epochs=30,\n",
    "    verbose=1,\n",
    "    validation_data=(x_test, y_test),\n",
    "    batch_size=256,\n",
    "#     callbacks=[cp_callback, tensorboard_callback]\n",
    ")\n"
   ]
  },
  {
   "cell_type": "code",
   "execution_count": null,
   "metadata": {},
   "outputs": [],
   "source": [
    "# ## input layer\n",
    "# input_layer = Input((S, S, L, 1))\n",
    "\n",
    "# ## convolutional layers\n",
    "\n",
    "# conv_layer2 = Conv3D(filters=16, kernel_size=(3, 3, 5), activation='relu')(conv_layer1)\n",
    "# conv_layer3 = Conv3D(filters=32, kernel_size=(3, 3, 3), activation='relu')(conv_layer2)\n",
    "# print(conv_layer3._keras_shape)\n",
    "# conv3d_shape = conv_layer3._keras_shape\n",
    "# conv_layer3 = Reshape((conv3d_shape[1], conv3d_shape[2], conv3d_shape[3]*conv3d_shape[4]))(conv_layer3)\n",
    "# conv_layer4 = Conv2D(filters=64, kernel_size=(3,3), activation='relu')(conv_layer3)\n",
    "\n",
    "# flatten_layer = Flatten()(conv_layer4)\n",
    "\n",
    "# ## fully connected layers\n",
    "# dense_layer1 = Dense(units=256, activation='relu')(flatten_layer)\n",
    "# dense_layer1 = Dropout(0.4)(dense_layer1)\n",
    "# dense_layer2 = Dense(units=128, activation='relu')(dense_layer1)\n",
    "# dense_layer2 = Dropout(0.4)(dense_layer2)\n",
    "# output_layer = Dense(units=output_units, activation='softmax')(dense_layer2)"
   ]
  },
  {
   "cell_type": "code",
   "execution_count": null,
   "metadata": {},
   "outputs": [],
   "source": [
    "# define the model with input layer and output layer\n",
    "# model = Model(inputs=input_layer, outputs=output_layer)"
   ]
  },
  {
   "cell_type": "code",
   "execution_count": null,
   "metadata": {},
   "outputs": [],
   "source": [
    "model.summary()"
   ]
  },
  {
   "cell_type": "code",
   "execution_count": 34,
   "metadata": {},
   "outputs": [],
   "source": [
    "# compiling the model\n",
    "adam = Adam(learning_rate=0.001, decay=1e-06)\n",
    "model.compile(loss='categorical_crossentropy', optimizer=adam, metrics=['accuracy'])"
   ]
  },
  {
   "cell_type": "code",
   "execution_count": 35,
   "metadata": {},
   "outputs": [],
   "source": [
    "# checkpoint\n",
    "filepath = \"best-model_res.hdf5\"\n",
    "checkpoint = ModelCheckpoint(filepath, monitor='acc', verbose=1, mode='max')\n",
    "callbacks_list = [checkpoint]"
   ]
  },
  {
   "cell_type": "code",
   "execution_count": null,
   "metadata": {},
   "outputs": [],
   "source": [
    "history = model.fit(x=Xtrain, y=ytrain, batch_size=256, epochs=30, callbacks=callbacks_list,validation_data=(x_test, y_test))"
   ]
  },
  {
   "cell_type": "markdown",
   "metadata": {},
   "source": [
    "# Validation"
   ]
  },
  {
   "cell_type": "code",
   "execution_count": 37,
   "metadata": {},
   "outputs": [],
   "source": [
    "# load best weights\n",
    "model.load_weights(\"best-model_res.hdf5\")\n",
    "model.compile(loss='categorical_crossentropy', optimizer=adam, metrics=['accuracy'])"
   ]
  },
  {
   "cell_type": "code",
   "execution_count": 38,
   "metadata": {},
   "outputs": [
    {
     "data": {
      "text/plain": [
       "(2050, 21, 21, 100, 1)"
      ]
     },
     "execution_count": 38,
     "metadata": {},
     "output_type": "execute_result"
    }
   ],
   "source": [
    "Xtest = Xtest.reshape(-1, windowSize, windowSize, K, 1)\n",
    "Xtest.shape"
   ]
  },
  {
   "cell_type": "code",
   "execution_count": 39,
   "metadata": {},
   "outputs": [
    {
     "data": {
      "text/plain": [
       "(2050, 16)"
      ]
     },
     "execution_count": 39,
     "metadata": {},
     "output_type": "execute_result"
    }
   ],
   "source": [
    "# ytest = np_utils.to_categorical(ytest)\n",
    "ytest.shape"
   ]
  },
  {
   "cell_type": "code",
   "execution_count": 40,
   "metadata": {},
   "outputs": [],
   "source": [
    "Y_pred_test = model.predict(Xtest)\n",
    "y_pred_test = np.argmax(Y_pred_test, axis=1)\n",
    "# y_pred_test = np_utils.to_categorical(y_pred_test)\n",
    "# print(y_pred_test.shape)\n"
   ]
  },
  {
   "cell_type": "code",
   "execution_count": 41,
   "metadata": {},
   "outputs": [
    {
     "name": "stdout",
     "output_type": "stream",
     "text": [
      "10\n",
      "              precision    recall  f1-score   support\n",
      "\n",
      "           0       1.00      1.00      1.00         9\n",
      "           1       1.00      0.98      0.99       286\n",
      "           2       0.93      1.00      0.97       166\n",
      "           3       1.00      0.96      0.98        47\n",
      "           4       1.00      0.87      0.93        97\n",
      "           5       0.99      1.00      0.99       146\n",
      "           6       1.00      1.00      1.00         5\n",
      "           7       1.00      1.00      1.00        96\n",
      "           8       0.80      1.00      0.89         4\n",
      "           9       0.99      0.98      0.99       194\n",
      "          10       0.99      0.99      0.99       491\n",
      "          11       0.99      0.94      0.97       119\n",
      "          12       0.93      1.00      0.96        41\n",
      "          13       1.00      1.00      1.00       253\n",
      "          14       0.87      1.00      0.93        77\n",
      "          15       0.84      0.84      0.84        19\n",
      "\n",
      "    accuracy                           0.98      2050\n",
      "   macro avg       0.96      0.97      0.96      2050\n",
      "weighted avg       0.98      0.98      0.98      2050\n",
      "\n"
     ]
    }
   ],
   "source": [
    "print(y_pred_test[10])\n",
    "classification = classification_report(np.argmax(ytest, axis=1), y_pred_test)\n",
    "print(classification)"
   ]
  },
  {
   "cell_type": "code",
   "execution_count": 42,
   "metadata": {},
   "outputs": [],
   "source": [
    "def AA_andEachClassAccuracy(confusion_matrix):\n",
    "    counter = confusion_matrix.shape[0]\n",
    "    list_diag = np.diag(confusion_matrix)\n",
    "    list_raw_sum = np.sum(confusion_matrix, axis=1)\n",
    "    each_acc = np.nan_to_num(truediv(list_diag, list_raw_sum))\n",
    "    average_acc = np.mean(each_acc)\n",
    "    return each_acc, average_acc"
   ]
  },
  {
   "cell_type": "code",
   "execution_count": 43,
   "metadata": {},
   "outputs": [],
   "source": [
    "def reports (X_test,y_test,name):\n",
    "    #start = time.time()\n",
    "    Y_pred = model.predict(X_test)\n",
    "    y_pred = np.argmax(Y_pred, axis=1)\n",
    "    #end = time.time()\n",
    "    #print(end - start)\n",
    "    if name == 'IP':\n",
    "        target_names = ['Alfalfa', 'Corn-notill', 'Corn-mintill', 'Corn'\n",
    "                        ,'Grass-pasture', 'Grass-trees', 'Grass-pasture-mowed', \n",
    "                        'Hay-windrowed', 'Oats', 'Soybean-notill', 'Soybean-mintill',\n",
    "                        'Soybean-clean', 'Wheat', 'Woods', 'Buildings-Grass-Trees-Drives',\n",
    "                        'Stone-Steel-Towers']\n",
    "    elif name == 'SA':\n",
    "        target_names = ['Brocoli_green_weeds_1','Brocoli_green_weeds_2','Fallow','Fallow_rough_plow','Fallow_smooth',\n",
    "                        'Stubble','Celery','Grapes_untrained','Soil_vinyard_develop','Corn_senesced_green_weeds',\n",
    "                        'Lettuce_romaine_4wk','Lettuce_romaine_5wk','Lettuce_romaine_6wk','Lettuce_romaine_7wk',\n",
    "                        'Vinyard_untrained','Vinyard_vertical_trellis']\n",
    "    elif name == 'PU':\n",
    "        target_names = ['Asphalt','Meadows','Gravel','Trees', 'Painted metal sheets','Bare Soil','Bitumen',\n",
    "                        'Self-Blocking Bricks','Shadows']\n",
    "    \n",
    "    classification = classification_report(np.argmax(y_test, axis=1), y_pred, target_names=target_names)\n",
    "    oa = accuracy_score(np.argmax(y_test, axis=1), y_pred)\n",
    "    confusion = confusion_matrix(np.argmax(y_test, axis=1), y_pred)\n",
    "    each_acc, aa = AA_andEachClassAccuracy(confusion)\n",
    "    kappa = cohen_kappa_score(np.argmax(y_test, axis=1), y_pred)\n",
    "    score = model.evaluate(X_test, y_test, batch_size=32)\n",
    "    Test_Loss =  score[0]*100\n",
    "    Test_accuracy = score[1]*100\n",
    "    \n",
    "    return classification, confusion, Test_Loss, Test_accuracy, oa*100, each_acc*100, aa*100, kappa*100"
   ]
  },
  {
   "cell_type": "code",
   "execution_count": 44,
   "metadata": {},
   "outputs": [
    {
     "name": "stdout",
     "output_type": "stream",
     "text": [
      "65/65 [==============================] - 2s 19ms/step - loss: 0.0531 - accuracy: 0.9791\n"
     ]
    }
   ],
   "source": [
    "classification, confusion, Test_loss, Test_accuracy, oa, each_acc, aa, kappa = reports(Xtest,ytest,dataset)\n",
    "classification = str(classification)\n",
    "confusion = str(confusion)\n",
    "file_name = \"classification_report.txt\"\n",
    "\n",
    "with open(file_name, 'w') as x_file:\n",
    "    x_file.write('{} Test loss (%)'.format(Test_loss))\n",
    "    x_file.write('\\n')\n",
    "    x_file.write('{} Test accuracy (%)'.format(Test_accuracy))\n",
    "    x_file.write('\\n')\n",
    "    x_file.write('\\n')\n",
    "    x_file.write('{} Kappa accuracy (%)'.format(kappa))\n",
    "    x_file.write('\\n')\n",
    "    x_file.write('{} Overall accuracy (%)'.format(oa))\n",
    "    x_file.write('\\n')\n",
    "    x_file.write('{} Average accuracy (%)'.format(aa))\n",
    "    x_file.write('\\n')\n",
    "    x_file.write('\\n')\n",
    "    x_file.write('{}'.format(classification))\n",
    "    x_file.write('\\n')\n",
    "    x_file.write('{}'.format(confusion))"
   ]
  },
  {
   "cell_type": "code",
   "execution_count": 45,
   "metadata": {},
   "outputs": [],
   "source": [
    "def Patch(data,height_index,width_index):\n",
    "    height_slice = slice(height_index, height_index+PATCH_SIZE)\n",
    "    width_slice = slice(width_index, width_index+PATCH_SIZE)\n",
    "    patch = data[height_slice, width_slice, :]\n",
    "    \n",
    "    return patch"
   ]
  },
  {
   "cell_type": "code",
   "execution_count": 46,
   "metadata": {},
   "outputs": [],
   "source": [
    "# load the original image\n",
    "X, y = loadData(dataset)"
   ]
  },
  {
   "cell_type": "code",
   "execution_count": 47,
   "metadata": {},
   "outputs": [],
   "source": [
    "height = y.shape[0]\n",
    "width = y.shape[1]\n",
    "PATCH_SIZE = windowSize\n",
    "numComponents = K"
   ]
  },
  {
   "cell_type": "code",
   "execution_count": 48,
   "metadata": {},
   "outputs": [],
   "source": [
    "X,pca = applyPCA(X, numComponents=numComponents)"
   ]
  },
  {
   "cell_type": "code",
   "execution_count": 49,
   "metadata": {},
   "outputs": [],
   "source": [
    "X = padWithZeros(X, PATCH_SIZE//2)"
   ]
  },
  {
   "cell_type": "code",
   "execution_count": 50,
   "metadata": {},
   "outputs": [],
   "source": [
    "# calculate the predicted image\n",
    "outputs = np.zeros((height,width))\n",
    "for i in range(height):\n",
    "    for j in range(width):\n",
    "        target = int(y[i,j])\n",
    "        if target == 0 :\n",
    "            continue\n",
    "        else :\n",
    "            image_patch=Patch(X,i,j)\n",
    "            X_test_image = image_patch.reshape(1,image_patch.shape[0],image_patch.shape[1], image_patch.shape[2], 1).astype('float32')                                   \n",
    "            prediction = (model.predict(X_test_image))\n",
    "            prediction = np.argmax(prediction, axis=1)\n",
    "            outputs[i][j] = prediction+1"
   ]
  },
  {
   "cell_type": "code",
   "execution_count": 51,
   "metadata": {},
   "outputs": [
    {
     "name": "stderr",
     "output_type": "stream",
     "text": [
      "/usr/local/lib/python3.9/site-packages/spectral/graphics/spypylab.py:58: MatplotlibDeprecationWarning:\n",
      "\n",
      "\n",
      "The keymap.all_axes rcparam was deprecated in Matplotlib 3.3 and will be removed two minor releases later.\n",
      "\n",
      "/usr/local/lib/python3.9/site-packages/spectral/graphics/spypylab.py:936: MatplotlibDeprecationWarning:\n",
      "\n",
      "Passing parameters norm and vmin/vmax simultaneously is deprecated since 3.3 and will become an error two minor releases later. Please pass vmin/vmax directly to the norm when creating it.\n",
      "\n"
     ]
    },
    {
     "data": {
      "image/png": "[encoded data removed]",
      "text/plain": [
       "<Figure size 504x504 with 1 Axes>"
      ]
     },
     "metadata": {
      "needs_background": "light"
     },
     "output_type": "display_data"
    }
   ],
   "source": [
    "ground_truth = spectral.imshow(classes = y,figsize =(7,7))"
   ]
  },
  {
   "cell_type": "code",
   "execution_count": 52,
   "metadata": {},
   "outputs": [
    {
     "data": {
      "image/png": "[encoded data removed]",
      "text/plain": [
       "<Figure size 504x504 with 1 Axes>"
      ]
     },
     "metadata": {
      "needs_background": "light"
     },
     "output_type": "display_data"
    }
   ],
   "source": [
    "predict_image = spectral.imshow(classes = outputs.astype(int),figsize =(7,7))"
   ]
  },
  {
   "cell_type": "code",
   "execution_count": 53,
   "metadata": {},
   "outputs": [],
   "source": [
    "spectral.save_rgb(\"predictions.jpg\", outputs.astype(int), colors=spectral.spy_colors)"
   ]
  },
  {
   "cell_type": "markdown",
   "metadata": {},
   "source": [
    "spectral.save_rgb(str(dataset)+\"_ground_truth.jpg\", y, colors=spectral.spy_colors)"
   ]
  }
 ],
 "metadata": {
  "kernelspec": {
   "display_name": "Python 3",
   "language": "python",
   "name": "python3"
  },
  "language_info": {
   "codemirror_mode": {
    "name": "ipython",
    "version": 3
   },
   "file_extension": ".py",
   "mimetype": "text/x-python",
   "name": "python",
   "nbconvert_exporter": "python",
   "pygments_lexer": "ipython3",
   "version": "3.7.3"
  }
 },
 "nbformat": 4,
 "nbformat_minor": 2
}
